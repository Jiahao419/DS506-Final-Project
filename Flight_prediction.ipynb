{
  "cells": [
    {
      "cell_type": "code",
      "execution_count": 1,
      "metadata": {
        "id": "NkAYb26iMpg9"
      },
      "outputs": [],
      "source": [
        "import pandas as pd\n",
        "import glob\n",
        "import os"
      ]
    },
    {
      "cell_type": "code",
      "execution_count": null,
      "metadata": {
        "id": "K-4q5z2INEyd"
      },
      "outputs": [
        {
          "name": "stdout",
          "output_type": "stream",
          "text": [
            "506_data/On_Time_Marketing_Carrier_On_Time_Performance_Beginning_January_2018_2020_2/On_Time_Marketing_Carrier_On_Time_Performance_(Beginning_January_2018)_2020_2.csv\n"
          ]
        },
        {
          "name": "stderr",
          "output_type": "stream",
          "text": [
            "/var/folders/br/znh1xf4j62j_9ntgx_cmf3gr0000gn/T/ipykernel_55464/1253025286.py:7: DtypeWarning: Columns (11,13,57,78,85,86,93) have mixed types. Specify dtype option on import or set low_memory=False.\n",
            "  df = pd.read_csv(f)\n"
          ]
        },
        {
          "name": "stdout",
          "output_type": "stream",
          "text": [
            "506_data/On_Time_Marketing_Carrier_On_Time_Performance_Beginning_January_2018_2022_8/On_Time_Marketing_Carrier_On_Time_Performance_(Beginning_January_2018)_2022_8.csv\n"
          ]
        },
        {
          "name": "stderr",
          "output_type": "stream",
          "text": [
            "/var/folders/br/znh1xf4j62j_9ntgx_cmf3gr0000gn/T/ipykernel_55464/1253025286.py:7: DtypeWarning: Columns (11,13,86,93) have mixed types. Specify dtype option on import or set low_memory=False.\n",
            "  df = pd.read_csv(f)\n"
          ]
        },
        {
          "name": "stdout",
          "output_type": "stream",
          "text": [
            "506_data/On_Time_Marketing_Carrier_On_Time_Performance_Beginning_January_2018_2020_5/On_Time_Marketing_Carrier_On_Time_Performance_(Beginning_January_2018)_2020_5.csv\n"
          ]
        },
        {
          "name": "stderr",
          "output_type": "stream",
          "text": [
            "/var/folders/br/znh1xf4j62j_9ntgx_cmf3gr0000gn/T/ipykernel_55464/1253025286.py:7: DtypeWarning: Columns (11,13,86,93) have mixed types. Specify dtype option on import or set low_memory=False.\n",
            "  df = pd.read_csv(f)\n"
          ]
        },
        {
          "name": "stdout",
          "output_type": "stream",
          "text": [
            "506_data/On_Time_Marketing_Carrier_On_Time_Performance_Beginning_January_2018_2022_1/On_Time_Marketing_Carrier_On_Time_Performance_(Beginning_January_2018)_2022_1.csv\n"
          ]
        },
        {
          "name": "stderr",
          "output_type": "stream",
          "text": [
            "/var/folders/br/znh1xf4j62j_9ntgx_cmf3gr0000gn/T/ipykernel_55464/1253025286.py:7: DtypeWarning: Columns (11,13,78,85,86,93) have mixed types. Specify dtype option on import or set low_memory=False.\n",
            "  df = pd.read_csv(f)\n"
          ]
        },
        {
          "name": "stdout",
          "output_type": "stream",
          "text": [
            "506_data/On_Time_Marketing_Carrier_On_Time_Performance_Beginning_January_2018_2019_12/On_Time_Marketing_Carrier_On_Time_Performance_(Beginning_January_2018)_2019_12.csv\n"
          ]
        },
        {
          "name": "stderr",
          "output_type": "stream",
          "text": [
            "/var/folders/br/znh1xf4j62j_9ntgx_cmf3gr0000gn/T/ipykernel_55464/1253025286.py:7: DtypeWarning: Columns (11,13,57,78,85,86,93,94,101) have mixed types. Specify dtype option on import or set low_memory=False.\n",
            "  df = pd.read_csv(f)\n"
          ]
        },
        {
          "name": "stdout",
          "output_type": "stream",
          "text": [
            "506_data/On_Time_Marketing_Carrier_On_Time_Performance_Beginning_January_2018_2022_6/On_Time_Marketing_Carrier_On_Time_Performance_(Beginning_January_2018)_2022_6.csv\n"
          ]
        },
        {
          "name": "stderr",
          "output_type": "stream",
          "text": [
            "/var/folders/br/znh1xf4j62j_9ntgx_cmf3gr0000gn/T/ipykernel_55464/1253025286.py:7: DtypeWarning: Columns (11,13,85,86,93) have mixed types. Specify dtype option on import or set low_memory=False.\n",
            "  df = pd.read_csv(f)\n"
          ]
        },
        {
          "name": "stdout",
          "output_type": "stream",
          "text": [
            "506_data/On_Time_Marketing_Carrier_On_Time_Performance_Beginning_January_2018_2024_4/On_Time_Marketing_Carrier_On_Time_Performance_(Beginning_January_2018)_2024_4.csv\n"
          ]
        },
        {
          "name": "stderr",
          "output_type": "stream",
          "text": [
            "/var/folders/br/znh1xf4j62j_9ntgx_cmf3gr0000gn/T/ipykernel_55464/1253025286.py:7: DtypeWarning: Columns (11,13,57,86,93) have mixed types. Specify dtype option on import or set low_memory=False.\n",
            "  df = pd.read_csv(f)\n"
          ]
        },
        {
          "name": "stdout",
          "output_type": "stream",
          "text": [
            "506_data/On_Time_Marketing_Carrier_On_Time_Performance_Beginning_January_2018_2024_3/On_Time_Marketing_Carrier_On_Time_Performance_(Beginning_January_2018)_2024_3.csv\n"
          ]
        },
        {
          "name": "stderr",
          "output_type": "stream",
          "text": [
            "/var/folders/br/znh1xf4j62j_9ntgx_cmf3gr0000gn/T/ipykernel_55464/1253025286.py:7: DtypeWarning: Columns (11,13,86,93) have mixed types. Specify dtype option on import or set low_memory=False.\n",
            "  df = pd.read_csv(f)\n"
          ]
        },
        {
          "name": "stdout",
          "output_type": "stream",
          "text": [
            "506_data/On_Time_Marketing_Carrier_On_Time_Performance_Beginning_January_2018_2021_11/On_Time_Marketing_Carrier_On_Time_Performance_(Beginning_January_2018)_2021_11.csv\n"
          ]
        },
        {
          "name": "stderr",
          "output_type": "stream",
          "text": [
            "/var/folders/br/znh1xf4j62j_9ntgx_cmf3gr0000gn/T/ipykernel_55464/1253025286.py:7: DtypeWarning: Columns (11,13,57,86) have mixed types. Specify dtype option on import or set low_memory=False.\n",
            "  df = pd.read_csv(f)\n"
          ]
        },
        {
          "name": "stdout",
          "output_type": "stream",
          "text": [
            "506_data/On_Time_Marketing_Carrier_On_Time_Performance_Beginning_January_2018_2022_7/On_Time_Marketing_Carrier_On_Time_Performance_(Beginning_January_2018)_2022_7.csv\n"
          ]
        },
        {
          "name": "stderr",
          "output_type": "stream",
          "text": [
            "/var/folders/br/znh1xf4j62j_9ntgx_cmf3gr0000gn/T/ipykernel_55464/1253025286.py:7: DtypeWarning: Columns (11,13,86,93) have mixed types. Specify dtype option on import or set low_memory=False.\n",
            "  df = pd.read_csv(f)\n"
          ]
        },
        {
          "name": "stdout",
          "output_type": "stream",
          "text": [
            "506_data/On_Time_Marketing_Carrier_On_Time_Performance_Beginning_January_2018_2022_9/On_Time_Marketing_Carrier_On_Time_Performance_(Beginning_January_2018)_2022_9.csv\n"
          ]
        },
        {
          "name": "stderr",
          "output_type": "stream",
          "text": [
            "/var/folders/br/znh1xf4j62j_9ntgx_cmf3gr0000gn/T/ipykernel_55464/1253025286.py:7: DtypeWarning: Columns (11,13,85,86,93) have mixed types. Specify dtype option on import or set low_memory=False.\n",
            "  df = pd.read_csv(f)\n"
          ]
        },
        {
          "name": "stdout",
          "output_type": "stream",
          "text": [
            "506_data/On_Time_Marketing_Carrier_On_Time_Performance_Beginning_January_2018_2020_4/On_Time_Marketing_Carrier_On_Time_Performance_(Beginning_January_2018)_2020_4.csv\n"
          ]
        },
        {
          "name": "stderr",
          "output_type": "stream",
          "text": [
            "/var/folders/br/znh1xf4j62j_9ntgx_cmf3gr0000gn/T/ipykernel_55464/1253025286.py:7: DtypeWarning: Columns (11,13,85,86,93) have mixed types. Specify dtype option on import or set low_memory=False.\n",
            "  df = pd.read_csv(f)\n"
          ]
        },
        {
          "name": "stdout",
          "output_type": "stream",
          "text": [
            "506_data/On_Time_Marketing_Carrier_On_Time_Performance_Beginning_January_2018_2020_3/On_Time_Marketing_Carrier_On_Time_Performance_(Beginning_January_2018)_2020_3.csv\n"
          ]
        },
        {
          "name": "stderr",
          "output_type": "stream",
          "text": [
            "/var/folders/br/znh1xf4j62j_9ntgx_cmf3gr0000gn/T/ipykernel_55464/1253025286.py:7: DtypeWarning: Columns (11,13,57,78,85,86,93) have mixed types. Specify dtype option on import or set low_memory=False.\n",
            "  df = pd.read_csv(f)\n"
          ]
        },
        {
          "name": "stdout",
          "output_type": "stream",
          "text": [
            "506_data/On_Time_Marketing_Carrier_On_Time_Performance_Beginning_January_2018_2024_2/On_Time_Marketing_Carrier_On_Time_Performance_(Beginning_January_2018)_2024_2.csv\n"
          ]
        },
        {
          "name": "stderr",
          "output_type": "stream",
          "text": [
            "/var/folders/br/znh1xf4j62j_9ntgx_cmf3gr0000gn/T/ipykernel_55464/1253025286.py:7: DtypeWarning: Columns (11,13,86,93) have mixed types. Specify dtype option on import or set low_memory=False.\n",
            "  df = pd.read_csv(f)\n"
          ]
        },
        {
          "name": "stdout",
          "output_type": "stream",
          "text": [
            "506_data/On_Time_Marketing_Carrier_On_Time_Performance_Beginning_January_2018_2021_10/On_Time_Marketing_Carrier_On_Time_Performance_(Beginning_January_2018)_2021_10.csv\n"
          ]
        },
        {
          "name": "stderr",
          "output_type": "stream",
          "text": [
            "/var/folders/br/znh1xf4j62j_9ntgx_cmf3gr0000gn/T/ipykernel_55464/1253025286.py:7: DtypeWarning: Columns (11,13,57,86,93) have mixed types. Specify dtype option on import or set low_memory=False.\n",
            "  df = pd.read_csv(f)\n"
          ]
        },
        {
          "name": "stdout",
          "output_type": "stream",
          "text": [
            "506_data/On_Time_Marketing_Carrier_On_Time_Performance_Beginning_January_2018_2024_5/On_Time_Marketing_Carrier_On_Time_Performance_(Beginning_January_2018)_2024_5.csv\n"
          ]
        },
        {
          "name": "stderr",
          "output_type": "stream",
          "text": [
            "/var/folders/br/znh1xf4j62j_9ntgx_cmf3gr0000gn/T/ipykernel_55464/1253025286.py:7: DtypeWarning: Columns (11,13,86,93) have mixed types. Specify dtype option on import or set low_memory=False.\n",
            "  df = pd.read_csv(f)\n"
          ]
        },
        {
          "name": "stdout",
          "output_type": "stream",
          "text": [
            "506_data/On_Time_Marketing_Carrier_On_Time_Performance_Beginning_January_2018_2019_8/On_Time_Marketing_Carrier_On_Time_Performance_(Beginning_January_2018)_2019_8.csv\n"
          ]
        },
        {
          "name": "stderr",
          "output_type": "stream",
          "text": [
            "/var/folders/br/znh1xf4j62j_9ntgx_cmf3gr0000gn/T/ipykernel_55464/1253025286.py:7: DtypeWarning: Columns (11,13,57,78,85,86,93) have mixed types. Specify dtype option on import or set low_memory=False.\n",
            "  df = pd.read_csv(f)\n"
          ]
        },
        {
          "name": "stdout",
          "output_type": "stream",
          "text": [
            "506_data/On_Time_Marketing_Carrier_On_Time_Performance_Beginning_January_2018_2019_6/On_Time_Marketing_Carrier_On_Time_Performance_(Beginning_January_2018)_2019_6.csv\n"
          ]
        },
        {
          "name": "stderr",
          "output_type": "stream",
          "text": [
            "/var/folders/br/znh1xf4j62j_9ntgx_cmf3gr0000gn/T/ipykernel_55464/1253025286.py:7: DtypeWarning: Columns (11,13,57,85,86,93) have mixed types. Specify dtype option on import or set low_memory=False.\n",
            "  df = pd.read_csv(f)\n"
          ]
        },
        {
          "name": "stdout",
          "output_type": "stream",
          "text": [
            "506_data/On_Time_Marketing_Carrier_On_Time_Performance_Beginning_January_2018_2019_1/On_Time_Marketing_Carrier_On_Time_Performance_(Beginning_January_2018)_2019_1.csv\n"
          ]
        },
        {
          "name": "stderr",
          "output_type": "stream",
          "text": [
            "/var/folders/br/znh1xf4j62j_9ntgx_cmf3gr0000gn/T/ipykernel_55464/1253025286.py:7: DtypeWarning: Columns (11,13,57,86,93,94) have mixed types. Specify dtype option on import or set low_memory=False.\n",
            "  df = pd.read_csv(f)\n"
          ]
        },
        {
          "name": "stdout",
          "output_type": "stream",
          "text": [
            "506_data/On_Time_Marketing_Carrier_On_Time_Performance_Beginning_January_2018_2024_11/On_Time_Marketing_Carrier_On_Time_Performance_(Beginning_January_2018)_2024_11.csv\n"
          ]
        },
        {
          "name": "stderr",
          "output_type": "stream",
          "text": [
            "/var/folders/br/znh1xf4j62j_9ntgx_cmf3gr0000gn/T/ipykernel_55464/1253025286.py:7: DtypeWarning: Columns (11,13,57,78,85,86,93) have mixed types. Specify dtype option on import or set low_memory=False.\n",
            "  df = pd.read_csv(f)\n"
          ]
        },
        {
          "name": "stdout",
          "output_type": "stream",
          "text": [
            "506_data/On_Time_Marketing_Carrier_On_Time_Performance_Beginning_January_2018_2020_10/On_Time_Marketing_Carrier_On_Time_Performance_(Beginning_January_2018)_2020_10.csv\n"
          ]
        },
        {
          "name": "stderr",
          "output_type": "stream",
          "text": [
            "/var/folders/br/znh1xf4j62j_9ntgx_cmf3gr0000gn/T/ipykernel_55464/1253025286.py:7: DtypeWarning: Columns (11,13,57,86,93) have mixed types. Specify dtype option on import or set low_memory=False.\n",
            "  df = pd.read_csv(f)\n"
          ]
        },
        {
          "name": "stdout",
          "output_type": "stream",
          "text": [
            "506_data/On_Time_Marketing_Carrier_On_Time_Performance_Beginning_January_2018_2019_7/On_Time_Marketing_Carrier_On_Time_Performance_(Beginning_January_2018)_2019_7.csv\n"
          ]
        },
        {
          "name": "stderr",
          "output_type": "stream",
          "text": [
            "/var/folders/br/znh1xf4j62j_9ntgx_cmf3gr0000gn/T/ipykernel_55464/1253025286.py:7: DtypeWarning: Columns (11,13,57,85,86,93) have mixed types. Specify dtype option on import or set low_memory=False.\n",
            "  df = pd.read_csv(f)\n"
          ]
        },
        {
          "name": "stdout",
          "output_type": "stream",
          "text": [
            "506_data/On_Time_Marketing_Carrier_On_Time_Performance_Beginning_January_2018_2019_9/On_Time_Marketing_Carrier_On_Time_Performance_(Beginning_January_2018)_2019_9.csv\n"
          ]
        },
        {
          "name": "stderr",
          "output_type": "stream",
          "text": [
            "/var/folders/br/znh1xf4j62j_9ntgx_cmf3gr0000gn/T/ipykernel_55464/1253025286.py:7: DtypeWarning: Columns (11,13,57,78,85,86,93) have mixed types. Specify dtype option on import or set low_memory=False.\n",
            "  df = pd.read_csv(f)\n"
          ]
        },
        {
          "name": "stdout",
          "output_type": "stream",
          "text": [
            "506_data/On_Time_Marketing_Carrier_On_Time_Performance_Beginning_January_2018_2020_11/On_Time_Marketing_Carrier_On_Time_Performance_(Beginning_January_2018)_2020_11.csv\n"
          ]
        },
        {
          "name": "stderr",
          "output_type": "stream",
          "text": [
            "/var/folders/br/znh1xf4j62j_9ntgx_cmf3gr0000gn/T/ipykernel_55464/1253025286.py:7: DtypeWarning: Columns (11,13,57,78,85,86) have mixed types. Specify dtype option on import or set low_memory=False.\n",
            "  df = pd.read_csv(f)\n"
          ]
        },
        {
          "name": "stdout",
          "output_type": "stream",
          "text": [
            "506_data/On_Time_Marketing_Carrier_On_Time_Performance_Beginning_January_2018_2024_10/On_Time_Marketing_Carrier_On_Time_Performance_(Beginning_January_2018)_2024_10.csv\n"
          ]
        },
        {
          "name": "stderr",
          "output_type": "stream",
          "text": [
            "/var/folders/br/znh1xf4j62j_9ntgx_cmf3gr0000gn/T/ipykernel_55464/1253025286.py:7: DtypeWarning: Columns (11,13,57,78,85,86,93) have mixed types. Specify dtype option on import or set low_memory=False.\n",
            "  df = pd.read_csv(f)\n"
          ]
        },
        {
          "name": "stdout",
          "output_type": "stream",
          "text": [
            "506_data/On_Time_Marketing_Carrier_On_Time_Performance_Beginning_January_2018_2025_7/On_Time_Marketing_Carrier_On_Time_Performance_(Beginning_January_2018)_2025_7.csv\n"
          ]
        },
        {
          "name": "stderr",
          "output_type": "stream",
          "text": [
            "/var/folders/br/znh1xf4j62j_9ntgx_cmf3gr0000gn/T/ipykernel_55464/1253025286.py:7: DtypeWarning: Columns (11,13,86,93) have mixed types. Specify dtype option on import or set low_memory=False.\n",
            "  df = pd.read_csv(f)\n"
          ]
        },
        {
          "name": "stdout",
          "output_type": "stream",
          "text": [
            "506_data/On_Time_Marketing_Carrier_On_Time_Performance_Beginning_January_2018_2023_2/On_Time_Marketing_Carrier_On_Time_Performance_(Beginning_January_2018)_2023_2.csv\n"
          ]
        },
        {
          "name": "stderr",
          "output_type": "stream",
          "text": [
            "/var/folders/br/znh1xf4j62j_9ntgx_cmf3gr0000gn/T/ipykernel_55464/1253025286.py:7: DtypeWarning: Columns (11,13,57,78,85,86,93) have mixed types. Specify dtype option on import or set low_memory=False.\n",
            "  df = pd.read_csv(f)\n"
          ]
        },
        {
          "name": "stdout",
          "output_type": "stream",
          "text": [
            "506_data/On_Time_Marketing_Carrier_On_Time_Performance_Beginning_January_2018_2023_5/On_Time_Marketing_Carrier_On_Time_Performance_(Beginning_January_2018)_2023_5.csv\n"
          ]
        },
        {
          "name": "stderr",
          "output_type": "stream",
          "text": [
            "/var/folders/br/znh1xf4j62j_9ntgx_cmf3gr0000gn/T/ipykernel_55464/1253025286.py:7: DtypeWarning: Columns (11,13,86,93,94) have mixed types. Specify dtype option on import or set low_memory=False.\n",
            "  df = pd.read_csv(f)\n"
          ]
        },
        {
          "name": "stdout",
          "output_type": "stream",
          "text": [
            "506_data/On_Time_Marketing_Carrier_On_Time_Performance_Beginning_January_2018_2021_8/On_Time_Marketing_Carrier_On_Time_Performance_(Beginning_January_2018)_2021_8.csv\n"
          ]
        },
        {
          "name": "stderr",
          "output_type": "stream",
          "text": [
            "/var/folders/br/znh1xf4j62j_9ntgx_cmf3gr0000gn/T/ipykernel_55464/1253025286.py:7: DtypeWarning: Columns (11,13,57,78,85,86,93) have mixed types. Specify dtype option on import or set low_memory=False.\n",
            "  df = pd.read_csv(f)\n"
          ]
        },
        {
          "name": "stdout",
          "output_type": "stream",
          "text": [
            "506_data/On_Time_Marketing_Carrier_On_Time_Performance_Beginning_January_2018_2021_1/On_Time_Marketing_Carrier_On_Time_Performance_(Beginning_January_2018)_2021_1.csv\n"
          ]
        },
        {
          "name": "stderr",
          "output_type": "stream",
          "text": [
            "/var/folders/br/znh1xf4j62j_9ntgx_cmf3gr0000gn/T/ipykernel_55464/1253025286.py:7: DtypeWarning: Columns (11,13,86,93) have mixed types. Specify dtype option on import or set low_memory=False.\n",
            "  df = pd.read_csv(f)\n"
          ]
        },
        {
          "name": "stdout",
          "output_type": "stream",
          "text": [
            "506_data/On_Time_Marketing_Carrier_On_Time_Performance_Beginning_January_2018_2021_6/On_Time_Marketing_Carrier_On_Time_Performance_(Beginning_January_2018)_2021_6.csv\n"
          ]
        },
        {
          "name": "stderr",
          "output_type": "stream",
          "text": [
            "/var/folders/br/znh1xf4j62j_9ntgx_cmf3gr0000gn/T/ipykernel_55464/1253025286.py:7: DtypeWarning: Columns (11,13,57,78,85,86,93) have mixed types. Specify dtype option on import or set low_memory=False.\n",
            "  df = pd.read_csv(f)\n"
          ]
        },
        {
          "name": "stdout",
          "output_type": "stream",
          "text": [
            "506_data/On_Time_Marketing_Carrier_On_Time_Performance_Beginning_January_2018_2023_12/On_Time_Marketing_Carrier_On_Time_Performance_(Beginning_January_2018)_2023_12.csv\n"
          ]
        },
        {
          "name": "stderr",
          "output_type": "stream",
          "text": [
            "/var/folders/br/znh1xf4j62j_9ntgx_cmf3gr0000gn/T/ipykernel_55464/1253025286.py:7: DtypeWarning: Columns (11,13,57,78,85,86,93) have mixed types. Specify dtype option on import or set low_memory=False.\n",
            "  df = pd.read_csv(f)\n"
          ]
        },
        {
          "name": "stdout",
          "output_type": "stream",
          "text": [
            "506_data/On_Time_Marketing_Carrier_On_Time_Performance_Beginning_January_2018_2025_1/On_Time_Marketing_Carrier_On_Time_Performance_(Beginning_January_2018)_2025_1.csv\n"
          ]
        },
        {
          "name": "stderr",
          "output_type": "stream",
          "text": [
            "/var/folders/br/znh1xf4j62j_9ntgx_cmf3gr0000gn/T/ipykernel_55464/1253025286.py:7: DtypeWarning: Columns (11,13,78,85,86,93) have mixed types. Specify dtype option on import or set low_memory=False.\n",
            "  df = pd.read_csv(f)\n"
          ]
        },
        {
          "name": "stdout",
          "output_type": "stream",
          "text": [
            "506_data/On_Time_Marketing_Carrier_On_Time_Performance_Beginning_January_2018_2025_6/On_Time_Marketing_Carrier_On_Time_Performance_(Beginning_January_2018)_2025_6.csv\n"
          ]
        },
        {
          "name": "stderr",
          "output_type": "stream",
          "text": [
            "/var/folders/br/znh1xf4j62j_9ntgx_cmf3gr0000gn/T/ipykernel_55464/1253025286.py:7: DtypeWarning: Columns (11,13,86,93,94,101) have mixed types. Specify dtype option on import or set low_memory=False.\n",
            "  df = pd.read_csv(f)\n"
          ]
        },
        {
          "name": "stdout",
          "output_type": "stream",
          "text": [
            "506_data/On_Time_Marketing_Carrier_On_Time_Performance_Beginning_January_2018_2021_7/On_Time_Marketing_Carrier_On_Time_Performance_(Beginning_January_2018)_2021_7.csv\n"
          ]
        },
        {
          "name": "stderr",
          "output_type": "stream",
          "text": [
            "/var/folders/br/znh1xf4j62j_9ntgx_cmf3gr0000gn/T/ipykernel_55464/1253025286.py:7: DtypeWarning: Columns (11,13,57,78,85,86,93) have mixed types. Specify dtype option on import or set low_memory=False.\n",
            "  df = pd.read_csv(f)\n"
          ]
        },
        {
          "name": "stdout",
          "output_type": "stream",
          "text": [
            "506_data/On_Time_Marketing_Carrier_On_Time_Performance_Beginning_January_2018_2023_4/On_Time_Marketing_Carrier_On_Time_Performance_(Beginning_January_2018)_2023_4.csv\n"
          ]
        },
        {
          "name": "stderr",
          "output_type": "stream",
          "text": [
            "/var/folders/br/znh1xf4j62j_9ntgx_cmf3gr0000gn/T/ipykernel_55464/1253025286.py:7: DtypeWarning: Columns (11,13,86,93) have mixed types. Specify dtype option on import or set low_memory=False.\n",
            "  df = pd.read_csv(f)\n"
          ]
        },
        {
          "name": "stdout",
          "output_type": "stream",
          "text": [
            "506_data/On_Time_Marketing_Carrier_On_Time_Performance_Beginning_January_2018_2021_9/On_Time_Marketing_Carrier_On_Time_Performance_(Beginning_January_2018)_2021_9.csv\n"
          ]
        },
        {
          "name": "stderr",
          "output_type": "stream",
          "text": [
            "/var/folders/br/znh1xf4j62j_9ntgx_cmf3gr0000gn/T/ipykernel_55464/1253025286.py:7: DtypeWarning: Columns (11,13,57,86,93) have mixed types. Specify dtype option on import or set low_memory=False.\n",
            "  df = pd.read_csv(f)\n"
          ]
        },
        {
          "name": "stdout",
          "output_type": "stream",
          "text": [
            "506_data/On_Time_Marketing_Carrier_On_Time_Performance_Beginning_January_2018_2023_3/On_Time_Marketing_Carrier_On_Time_Performance_(Beginning_January_2018)_2023_3.csv\n"
          ]
        },
        {
          "name": "stderr",
          "output_type": "stream",
          "text": [
            "/var/folders/br/znh1xf4j62j_9ntgx_cmf3gr0000gn/T/ipykernel_55464/1253025286.py:7: DtypeWarning: Columns (11,13,57,78,85,86,93) have mixed types. Specify dtype option on import or set low_memory=False.\n",
            "  df = pd.read_csv(f)\n"
          ]
        },
        {
          "name": "stdout",
          "output_type": "stream",
          "text": [
            "506_data/On_Time_Marketing_Carrier_On_Time_Performance_Beginning_January_2018_2022_12/On_Time_Marketing_Carrier_On_Time_Performance_(Beginning_January_2018)_2022_12.csv\n"
          ]
        },
        {
          "name": "stderr",
          "output_type": "stream",
          "text": [
            "/var/folders/br/znh1xf4j62j_9ntgx_cmf3gr0000gn/T/ipykernel_55464/1253025286.py:7: DtypeWarning: Columns (11,13,57,78,85,86,93) have mixed types. Specify dtype option on import or set low_memory=False.\n",
            "  df = pd.read_csv(f)\n"
          ]
        },
        {
          "name": "stdout",
          "output_type": "stream",
          "text": [
            "506_data/On_Time_Marketing_Carrier_On_Time_Performance_Beginning_January_2018_2021_12/On_Time_Marketing_Carrier_On_Time_Performance_(Beginning_January_2018)_2021_12.csv\n"
          ]
        },
        {
          "name": "stderr",
          "output_type": "stream",
          "text": [
            "/var/folders/br/znh1xf4j62j_9ntgx_cmf3gr0000gn/T/ipykernel_55464/1253025286.py:7: DtypeWarning: Columns (11,13,86,93) have mixed types. Specify dtype option on import or set low_memory=False.\n",
            "  df = pd.read_csv(f)\n"
          ]
        },
        {
          "name": "stdout",
          "output_type": "stream",
          "text": [
            "506_data/On_Time_Marketing_Carrier_On_Time_Performance_Beginning_January_2018_2024_7/On_Time_Marketing_Carrier_On_Time_Performance_(Beginning_January_2018)_2024_7.csv\n"
          ]
        },
        {
          "name": "stderr",
          "output_type": "stream",
          "text": [
            "/var/folders/br/znh1xf4j62j_9ntgx_cmf3gr0000gn/T/ipykernel_55464/1253025286.py:7: DtypeWarning: Columns (11,13,57,86,93) have mixed types. Specify dtype option on import or set low_memory=False.\n",
            "  df = pd.read_csv(f)\n"
          ]
        },
        {
          "name": "stdout",
          "output_type": "stream",
          "text": [
            "506_data/On_Time_Marketing_Carrier_On_Time_Performance_Beginning_January_2018_2024_9/On_Time_Marketing_Carrier_On_Time_Performance_(Beginning_January_2018)_2024_9.csv\n"
          ]
        },
        {
          "name": "stderr",
          "output_type": "stream",
          "text": [
            "/var/folders/br/znh1xf4j62j_9ntgx_cmf3gr0000gn/T/ipykernel_55464/1253025286.py:7: DtypeWarning: Columns (11,13,86,93) have mixed types. Specify dtype option on import or set low_memory=False.\n",
            "  df = pd.read_csv(f)\n"
          ]
        },
        {
          "name": "stdout",
          "output_type": "stream",
          "text": [
            "506_data/On_Time_Marketing_Carrier_On_Time_Performance_Beginning_January_2018_2020_6/On_Time_Marketing_Carrier_On_Time_Performance_(Beginning_January_2018)_2020_6.csv\n"
          ]
        },
        {
          "name": "stderr",
          "output_type": "stream",
          "text": [
            "/var/folders/br/znh1xf4j62j_9ntgx_cmf3gr0000gn/T/ipykernel_55464/1253025286.py:7: DtypeWarning: Columns (11,13,57) have mixed types. Specify dtype option on import or set low_memory=False.\n",
            "  df = pd.read_csv(f)\n"
          ]
        },
        {
          "name": "stdout",
          "output_type": "stream",
          "text": [
            "506_data/On_Time_Marketing_Carrier_On_Time_Performance_Beginning_January_2018_2020_1/On_Time_Marketing_Carrier_On_Time_Performance_(Beginning_January_2018)_2020_1.csv\n"
          ]
        },
        {
          "name": "stderr",
          "output_type": "stream",
          "text": [
            "/var/folders/br/znh1xf4j62j_9ntgx_cmf3gr0000gn/T/ipykernel_55464/1253025286.py:7: DtypeWarning: Columns (11,13,57,86,93) have mixed types. Specify dtype option on import or set low_memory=False.\n",
            "  df = pd.read_csv(f)\n"
          ]
        },
        {
          "name": "stdout",
          "output_type": "stream",
          "text": [
            "506_data/On_Time_Marketing_Carrier_On_Time_Performance_Beginning_January_2018_2020_8/On_Time_Marketing_Carrier_On_Time_Performance_(Beginning_January_2018)_2020_8.csv\n"
          ]
        },
        {
          "name": "stderr",
          "output_type": "stream",
          "text": [
            "/var/folders/br/znh1xf4j62j_9ntgx_cmf3gr0000gn/T/ipykernel_55464/1253025286.py:7: DtypeWarning: Columns (11,13,86,93) have mixed types. Specify dtype option on import or set low_memory=False.\n",
            "  df = pd.read_csv(f)\n"
          ]
        },
        {
          "name": "stdout",
          "output_type": "stream",
          "text": [
            "506_data/On_Time_Marketing_Carrier_On_Time_Performance_Beginning_January_2018_2022_5/On_Time_Marketing_Carrier_On_Time_Performance_(Beginning_January_2018)_2022_5.csv\n"
          ]
        },
        {
          "name": "stderr",
          "output_type": "stream",
          "text": [
            "/var/folders/br/znh1xf4j62j_9ntgx_cmf3gr0000gn/T/ipykernel_55464/1253025286.py:7: DtypeWarning: Columns (11,13,86,93) have mixed types. Specify dtype option on import or set low_memory=False.\n",
            "  df = pd.read_csv(f)\n"
          ]
        },
        {
          "name": "stdout",
          "output_type": "stream",
          "text": [
            "506_data/On_Time_Marketing_Carrier_On_Time_Performance_Beginning_January_2018_2022_2/On_Time_Marketing_Carrier_On_Time_Performance_(Beginning_January_2018)_2022_2.csv\n"
          ]
        },
        {
          "name": "stderr",
          "output_type": "stream",
          "text": [
            "/var/folders/br/znh1xf4j62j_9ntgx_cmf3gr0000gn/T/ipykernel_55464/1253025286.py:7: DtypeWarning: Columns (11,13,78,85,86,93) have mixed types. Specify dtype option on import or set low_memory=False.\n",
            "  df = pd.read_csv(f)\n"
          ]
        },
        {
          "name": "stdout",
          "output_type": "stream",
          "text": [
            "506_data/On_Time_Marketing_Carrier_On_Time_Performance_Beginning_January_2018_2019_11/On_Time_Marketing_Carrier_On_Time_Performance_(Beginning_January_2018)_2019_11.csv\n"
          ]
        },
        {
          "name": "stderr",
          "output_type": "stream",
          "text": [
            "/var/folders/br/znh1xf4j62j_9ntgx_cmf3gr0000gn/T/ipykernel_55464/1253025286.py:7: DtypeWarning: Columns (11,13,57,78,85,86,93) have mixed types. Specify dtype option on import or set low_memory=False.\n",
            "  df = pd.read_csv(f)\n"
          ]
        },
        {
          "name": "stdout",
          "output_type": "stream",
          "text": [
            "506_data/On_Time_Marketing_Carrier_On_Time_Performance_Beginning_January_2018_2024_8/On_Time_Marketing_Carrier_On_Time_Performance_(Beginning_January_2018)_2024_8.csv\n"
          ]
        },
        {
          "name": "stderr",
          "output_type": "stream",
          "text": [
            "/var/folders/br/znh1xf4j62j_9ntgx_cmf3gr0000gn/T/ipykernel_55464/1253025286.py:7: DtypeWarning: Columns (11,13,86) have mixed types. Specify dtype option on import or set low_memory=False.\n",
            "  df = pd.read_csv(f)\n"
          ]
        },
        {
          "name": "stdout",
          "output_type": "stream",
          "text": [
            "506_data/On_Time_Marketing_Carrier_On_Time_Performance_Beginning_January_2018_2024_6/On_Time_Marketing_Carrier_On_Time_Performance_(Beginning_January_2018)_2024_6.csv\n"
          ]
        },
        {
          "name": "stderr",
          "output_type": "stream",
          "text": [
            "/var/folders/br/znh1xf4j62j_9ntgx_cmf3gr0000gn/T/ipykernel_55464/1253025286.py:7: DtypeWarning: Columns (11,13,86,93) have mixed types. Specify dtype option on import or set low_memory=False.\n",
            "  df = pd.read_csv(f)\n"
          ]
        },
        {
          "name": "stdout",
          "output_type": "stream",
          "text": [
            "506_data/On_Time_Marketing_Carrier_On_Time_Performance_Beginning_January_2018_2024_1/On_Time_Marketing_Carrier_On_Time_Performance_(Beginning_January_2018)_2024_1.csv\n"
          ]
        },
        {
          "name": "stderr",
          "output_type": "stream",
          "text": [
            "/var/folders/br/znh1xf4j62j_9ntgx_cmf3gr0000gn/T/ipykernel_55464/1253025286.py:7: DtypeWarning: Columns (11,13,86,93,94,101) have mixed types. Specify dtype option on import or set low_memory=False.\n",
            "  df = pd.read_csv(f)\n"
          ]
        },
        {
          "name": "stdout",
          "output_type": "stream",
          "text": [
            "506_data/On_Time_Marketing_Carrier_On_Time_Performance_Beginning_January_2018_2019_10/On_Time_Marketing_Carrier_On_Time_Performance_(Beginning_January_2018)_2019_10.csv\n"
          ]
        },
        {
          "name": "stderr",
          "output_type": "stream",
          "text": [
            "/var/folders/br/znh1xf4j62j_9ntgx_cmf3gr0000gn/T/ipykernel_55464/1253025286.py:7: DtypeWarning: Columns (11,13,57,86,93) have mixed types. Specify dtype option on import or set low_memory=False.\n",
            "  df = pd.read_csv(f)\n"
          ]
        },
        {
          "name": "stdout",
          "output_type": "stream",
          "text": [
            "506_data/On_Time_Marketing_Carrier_On_Time_Performance_Beginning_January_2018_2022_3/On_Time_Marketing_Carrier_On_Time_Performance_(Beginning_January_2018)_2022_3.csv\n"
          ]
        },
        {
          "name": "stderr",
          "output_type": "stream",
          "text": [
            "/var/folders/br/znh1xf4j62j_9ntgx_cmf3gr0000gn/T/ipykernel_55464/1253025286.py:7: DtypeWarning: Columns (11,13,86,93,94) have mixed types. Specify dtype option on import or set low_memory=False.\n",
            "  df = pd.read_csv(f)\n"
          ]
        },
        {
          "name": "stdout",
          "output_type": "stream",
          "text": [
            "506_data/On_Time_Marketing_Carrier_On_Time_Performance_Beginning_January_2018_2020_9/On_Time_Marketing_Carrier_On_Time_Performance_(Beginning_January_2018)_2020_9.csv\n"
          ]
        },
        {
          "name": "stderr",
          "output_type": "stream",
          "text": [
            "/var/folders/br/znh1xf4j62j_9ntgx_cmf3gr0000gn/T/ipykernel_55464/1253025286.py:7: DtypeWarning: Columns (11,13,57,86,93) have mixed types. Specify dtype option on import or set low_memory=False.\n",
            "  df = pd.read_csv(f)\n"
          ]
        },
        {
          "name": "stdout",
          "output_type": "stream",
          "text": [
            "506_data/On_Time_Marketing_Carrier_On_Time_Performance_Beginning_January_2018_2022_4/On_Time_Marketing_Carrier_On_Time_Performance_(Beginning_January_2018)_2022_4.csv\n"
          ]
        },
        {
          "name": "stderr",
          "output_type": "stream",
          "text": [
            "/var/folders/br/znh1xf4j62j_9ntgx_cmf3gr0000gn/T/ipykernel_55464/1253025286.py:7: DtypeWarning: Columns (11,13,86,93) have mixed types. Specify dtype option on import or set low_memory=False.\n",
            "  df = pd.read_csv(f)\n"
          ]
        },
        {
          "name": "stdout",
          "output_type": "stream",
          "text": [
            "506_data/On_Time_Marketing_Carrier_On_Time_Performance_Beginning_January_2018_2020_7/On_Time_Marketing_Carrier_On_Time_Performance_(Beginning_January_2018)_2020_7.csv\n"
          ]
        },
        {
          "name": "stderr",
          "output_type": "stream",
          "text": [
            "/var/folders/br/znh1xf4j62j_9ntgx_cmf3gr0000gn/T/ipykernel_55464/1253025286.py:7: DtypeWarning: Columns (11,13,86,93) have mixed types. Specify dtype option on import or set low_memory=False.\n",
            "  df = pd.read_csv(f)\n"
          ]
        },
        {
          "name": "stdout",
          "output_type": "stream",
          "text": [
            "506_data/On_Time_Marketing_Carrier_On_Time_Performance_Beginning_January_2018_2024_12/On_Time_Marketing_Carrier_On_Time_Performance_(Beginning_January_2018)_2024_12.csv\n"
          ]
        },
        {
          "name": "stderr",
          "output_type": "stream",
          "text": [
            "/var/folders/br/znh1xf4j62j_9ntgx_cmf3gr0000gn/T/ipykernel_55464/1253025286.py:7: DtypeWarning: Columns (11,13,86,93) have mixed types. Specify dtype option on import or set low_memory=False.\n",
            "  df = pd.read_csv(f)\n"
          ]
        },
        {
          "name": "stdout",
          "output_type": "stream",
          "text": [
            "506_data/On_Time_Marketing_Carrier_On_Time_Performance_Beginning_January_2018_2019_2/On_Time_Marketing_Carrier_On_Time_Performance_(Beginning_January_2018)_2019_2.csv\n"
          ]
        },
        {
          "name": "stderr",
          "output_type": "stream",
          "text": [
            "/var/folders/br/znh1xf4j62j_9ntgx_cmf3gr0000gn/T/ipykernel_55464/1253025286.py:7: DtypeWarning: Columns (11,13,57,86,93,94) have mixed types. Specify dtype option on import or set low_memory=False.\n",
            "  df = pd.read_csv(f)\n"
          ]
        },
        {
          "name": "stdout",
          "output_type": "stream",
          "text": [
            "506_data/On_Time_Marketing_Carrier_On_Time_Performance_Beginning_January_2018_2019_5/On_Time_Marketing_Carrier_On_Time_Performance_(Beginning_January_2018)_2019_5.csv\n"
          ]
        },
        {
          "name": "stderr",
          "output_type": "stream",
          "text": [
            "/var/folders/br/znh1xf4j62j_9ntgx_cmf3gr0000gn/T/ipykernel_55464/1253025286.py:7: DtypeWarning: Columns (11,13,57,78,85,86,93) have mixed types. Specify dtype option on import or set low_memory=False.\n",
            "  df = pd.read_csv(f)\n"
          ]
        },
        {
          "name": "stdout",
          "output_type": "stream",
          "text": [
            "506_data/On_Time_Marketing_Carrier_On_Time_Performance_Beginning_January_2018_2020_12/On_Time_Marketing_Carrier_On_Time_Performance_(Beginning_January_2018)_2020_12.csv\n"
          ]
        },
        {
          "name": "stderr",
          "output_type": "stream",
          "text": [
            "/var/folders/br/znh1xf4j62j_9ntgx_cmf3gr0000gn/T/ipykernel_55464/1253025286.py:7: DtypeWarning: Columns (11,13,86,93) have mixed types. Specify dtype option on import or set low_memory=False.\n",
            "  df = pd.read_csv(f)\n"
          ]
        },
        {
          "name": "stdout",
          "output_type": "stream",
          "text": [
            "506_data/On_Time_Marketing_Carrier_On_Time_Performance_Beginning_January_2018_2019_4/On_Time_Marketing_Carrier_On_Time_Performance_(Beginning_January_2018)_2019_4.csv\n"
          ]
        },
        {
          "name": "stderr",
          "output_type": "stream",
          "text": [
            "/var/folders/br/znh1xf4j62j_9ntgx_cmf3gr0000gn/T/ipykernel_55464/1253025286.py:7: DtypeWarning: Columns (11,13,57,85,86,93) have mixed types. Specify dtype option on import or set low_memory=False.\n",
            "  df = pd.read_csv(f)\n"
          ]
        },
        {
          "name": "stdout",
          "output_type": "stream",
          "text": [
            "506_data/On_Time_Marketing_Carrier_On_Time_Performance_Beginning_January_2018_2019_3/On_Time_Marketing_Carrier_On_Time_Performance_(Beginning_January_2018)_2019_3.csv\n"
          ]
        },
        {
          "name": "stderr",
          "output_type": "stream",
          "text": [
            "/var/folders/br/znh1xf4j62j_9ntgx_cmf3gr0000gn/T/ipykernel_55464/1253025286.py:7: DtypeWarning: Columns (11,13,57,85,86,93) have mixed types. Specify dtype option on import or set low_memory=False.\n",
            "  df = pd.read_csv(f)\n"
          ]
        },
        {
          "name": "stdout",
          "output_type": "stream",
          "text": [
            "506_data/On_Time_Marketing_Carrier_On_Time_Performance_Beginning_January_2018_2023_6/On_Time_Marketing_Carrier_On_Time_Performance_(Beginning_January_2018)_2023_6.csv\n"
          ]
        },
        {
          "name": "stderr",
          "output_type": "stream",
          "text": [
            "/var/folders/br/znh1xf4j62j_9ntgx_cmf3gr0000gn/T/ipykernel_55464/1253025286.py:7: DtypeWarning: Columns (11,13,86,93,94,101) have mixed types. Specify dtype option on import or set low_memory=False.\n",
            "  df = pd.read_csv(f)\n"
          ]
        },
        {
          "name": "stdout",
          "output_type": "stream",
          "text": [
            "506_data/On_Time_Marketing_Carrier_On_Time_Performance_Beginning_January_2018_2023_1/On_Time_Marketing_Carrier_On_Time_Performance_(Beginning_January_2018)_2023_1.csv\n"
          ]
        },
        {
          "name": "stderr",
          "output_type": "stream",
          "text": [
            "/var/folders/br/znh1xf4j62j_9ntgx_cmf3gr0000gn/T/ipykernel_55464/1253025286.py:7: DtypeWarning: Columns (11,13,57,86,93) have mixed types. Specify dtype option on import or set low_memory=False.\n",
            "  df = pd.read_csv(f)\n"
          ]
        },
        {
          "name": "stdout",
          "output_type": "stream",
          "text": [
            "506_data/On_Time_Marketing_Carrier_On_Time_Performance_Beginning_January_2018_2021_5/On_Time_Marketing_Carrier_On_Time_Performance_(Beginning_January_2018)_2021_5.csv\n"
          ]
        },
        {
          "name": "stderr",
          "output_type": "stream",
          "text": [
            "/var/folders/br/znh1xf4j62j_9ntgx_cmf3gr0000gn/T/ipykernel_55464/1253025286.py:7: DtypeWarning: Columns (11,13,57,78,85,86,93) have mixed types. Specify dtype option on import or set low_memory=False.\n",
            "  df = pd.read_csv(f)\n"
          ]
        },
        {
          "name": "stdout",
          "output_type": "stream",
          "text": [
            "506_data/On_Time_Marketing_Carrier_On_Time_Performance_Beginning_January_2018_2023_8/On_Time_Marketing_Carrier_On_Time_Performance_(Beginning_January_2018)_2023_8.csv\n"
          ]
        },
        {
          "name": "stderr",
          "output_type": "stream",
          "text": [
            "/var/folders/br/znh1xf4j62j_9ntgx_cmf3gr0000gn/T/ipykernel_55464/1253025286.py:7: DtypeWarning: Columns (11,13,86,93) have mixed types. Specify dtype option on import or set low_memory=False.\n",
            "  df = pd.read_csv(f)\n"
          ]
        },
        {
          "name": "stdout",
          "output_type": "stream",
          "text": [
            "506_data/On_Time_Marketing_Carrier_On_Time_Performance_Beginning_January_2018_2021_2/On_Time_Marketing_Carrier_On_Time_Performance_(Beginning_January_2018)_2021_2.csv\n"
          ]
        },
        {
          "name": "stderr",
          "output_type": "stream",
          "text": [
            "/var/folders/br/znh1xf4j62j_9ntgx_cmf3gr0000gn/T/ipykernel_55464/1253025286.py:7: DtypeWarning: Columns (11,13,86,93) have mixed types. Specify dtype option on import or set low_memory=False.\n",
            "  df = pd.read_csv(f)\n"
          ]
        },
        {
          "name": "stdout",
          "output_type": "stream",
          "text": [
            "506_data/On_Time_Marketing_Carrier_On_Time_Performance_Beginning_January_2018_2023_10/On_Time_Marketing_Carrier_On_Time_Performance_(Beginning_January_2018)_2023_10.csv\n"
          ]
        },
        {
          "name": "stderr",
          "output_type": "stream",
          "text": [
            "/var/folders/br/znh1xf4j62j_9ntgx_cmf3gr0000gn/T/ipykernel_55464/1253025286.py:7: DtypeWarning: Columns (11,13,57,78,85,86,93) have mixed types. Specify dtype option on import or set low_memory=False.\n",
            "  df = pd.read_csv(f)\n"
          ]
        },
        {
          "name": "stdout",
          "output_type": "stream",
          "text": [
            "506_data/On_Time_Marketing_Carrier_On_Time_Performance_Beginning_January_2018_2025_3/On_Time_Marketing_Carrier_On_Time_Performance_(Beginning_January_2018)_2025_3.csv\n"
          ]
        },
        {
          "name": "stderr",
          "output_type": "stream",
          "text": [
            "/var/folders/br/znh1xf4j62j_9ntgx_cmf3gr0000gn/T/ipykernel_55464/1253025286.py:7: DtypeWarning: Columns (11,13,78,85,86,93) have mixed types. Specify dtype option on import or set low_memory=False.\n",
            "  df = pd.read_csv(f)\n"
          ]
        },
        {
          "name": "stdout",
          "output_type": "stream",
          "text": [
            "506_data/On_Time_Marketing_Carrier_On_Time_Performance_Beginning_January_2018_2025_4/On_Time_Marketing_Carrier_On_Time_Performance_(Beginning_January_2018)_2025_4.csv\n"
          ]
        },
        {
          "name": "stderr",
          "output_type": "stream",
          "text": [
            "/var/folders/br/znh1xf4j62j_9ntgx_cmf3gr0000gn/T/ipykernel_55464/1253025286.py:7: DtypeWarning: Columns (11,13,86,93) have mixed types. Specify dtype option on import or set low_memory=False.\n",
            "  df = pd.read_csv(f)\n"
          ]
        },
        {
          "name": "stdout",
          "output_type": "stream",
          "text": [
            "506_data/On_Time_Marketing_Carrier_On_Time_Performance_Beginning_January_2018_2021_3/On_Time_Marketing_Carrier_On_Time_Performance_(Beginning_January_2018)_2021_3.csv\n"
          ]
        },
        {
          "name": "stderr",
          "output_type": "stream",
          "text": [
            "/var/folders/br/znh1xf4j62j_9ntgx_cmf3gr0000gn/T/ipykernel_55464/1253025286.py:7: DtypeWarning: Columns (11,13,57,78,85,86,93) have mixed types. Specify dtype option on import or set low_memory=False.\n",
            "  df = pd.read_csv(f)\n"
          ]
        },
        {
          "name": "stdout",
          "output_type": "stream",
          "text": [
            "506_data/On_Time_Marketing_Carrier_On_Time_Performance_Beginning_January_2018_2021_4/On_Time_Marketing_Carrier_On_Time_Performance_(Beginning_January_2018)_2021_4.csv\n"
          ]
        },
        {
          "name": "stderr",
          "output_type": "stream",
          "text": [
            "/var/folders/br/znh1xf4j62j_9ntgx_cmf3gr0000gn/T/ipykernel_55464/1253025286.py:7: DtypeWarning: Columns (11,13,57,78,85,86,93) have mixed types. Specify dtype option on import or set low_memory=False.\n",
            "  df = pd.read_csv(f)\n"
          ]
        },
        {
          "name": "stdout",
          "output_type": "stream",
          "text": [
            "506_data/On_Time_Marketing_Carrier_On_Time_Performance_Beginning_January_2018_2023_9/On_Time_Marketing_Carrier_On_Time_Performance_(Beginning_January_2018)_2023_9.csv\n"
          ]
        },
        {
          "name": "stderr",
          "output_type": "stream",
          "text": [
            "/var/folders/br/znh1xf4j62j_9ntgx_cmf3gr0000gn/T/ipykernel_55464/1253025286.py:7: DtypeWarning: Columns (11,13,78,85,86,93) have mixed types. Specify dtype option on import or set low_memory=False.\n",
            "  df = pd.read_csv(f)\n"
          ]
        },
        {
          "name": "stdout",
          "output_type": "stream",
          "text": [
            "506_data/On_Time_Marketing_Carrier_On_Time_Performance_Beginning_January_2018_2023_7/On_Time_Marketing_Carrier_On_Time_Performance_(Beginning_January_2018)_2023_7.csv\n"
          ]
        },
        {
          "name": "stderr",
          "output_type": "stream",
          "text": [
            "/var/folders/br/znh1xf4j62j_9ntgx_cmf3gr0000gn/T/ipykernel_55464/1253025286.py:7: DtypeWarning: Columns (11,13,57,78,85,86,93) have mixed types. Specify dtype option on import or set low_memory=False.\n",
            "  df = pd.read_csv(f)\n"
          ]
        },
        {
          "name": "stdout",
          "output_type": "stream",
          "text": [
            "506_data/On_Time_Marketing_Carrier_On_Time_Performance_Beginning_January_2018_2025_5/On_Time_Marketing_Carrier_On_Time_Performance_(Beginning_January_2018)_2025_5.csv\n"
          ]
        },
        {
          "name": "stderr",
          "output_type": "stream",
          "text": [
            "/var/folders/br/znh1xf4j62j_9ntgx_cmf3gr0000gn/T/ipykernel_55464/1253025286.py:7: DtypeWarning: Columns (11,13,86,93) have mixed types. Specify dtype option on import or set low_memory=False.\n",
            "  df = pd.read_csv(f)\n"
          ]
        },
        {
          "name": "stdout",
          "output_type": "stream",
          "text": [
            "506_data/On_Time_Marketing_Carrier_On_Time_Performance_Beginning_January_2018_2023_11/On_Time_Marketing_Carrier_On_Time_Performance_(Beginning_January_2018)_2023_11.csv\n"
          ]
        },
        {
          "name": "stderr",
          "output_type": "stream",
          "text": [
            "/var/folders/br/znh1xf4j62j_9ntgx_cmf3gr0000gn/T/ipykernel_55464/1253025286.py:7: DtypeWarning: Columns (11,13,57,78,85,86,93) have mixed types. Specify dtype option on import or set low_memory=False.\n",
            "  df = pd.read_csv(f)\n"
          ]
        },
        {
          "name": "stdout",
          "output_type": "stream",
          "text": [
            "506_data/On_Time_Marketing_Carrier_On_Time_Performance_Beginning_January_2018_2025_2/On_Time_Marketing_Carrier_On_Time_Performance_(Beginning_January_2018)_2025_2.csv\n"
          ]
        },
        {
          "name": "stderr",
          "output_type": "stream",
          "text": [
            "/var/folders/br/znh1xf4j62j_9ntgx_cmf3gr0000gn/T/ipykernel_55464/1253025286.py:7: DtypeWarning: Columns (11,13,86,93,94) have mixed types. Specify dtype option on import or set low_memory=False.\n",
            "  df = pd.read_csv(f)\n"
          ]
        },
        {
          "name": "stdout",
          "output_type": "stream",
          "text": [
            "506_data/On_Time_Marketing_Carrier_On_Time_Performance_Beginning_January_2018_2022_11/On_Time_Marketing_Carrier_On_Time_Performance_(Beginning_January_2018)_2022_11.csv\n"
          ]
        },
        {
          "name": "stderr",
          "output_type": "stream",
          "text": [
            "/var/folders/br/znh1xf4j62j_9ntgx_cmf3gr0000gn/T/ipykernel_55464/1253025286.py:7: DtypeWarning: Columns (11,13,85,86,93) have mixed types. Specify dtype option on import or set low_memory=False.\n",
            "  df = pd.read_csv(f)\n"
          ]
        },
        {
          "name": "stdout",
          "output_type": "stream",
          "text": [
            "506_data/On_Time_Marketing_Carrier_On_Time_Performance_Beginning_January_2018_2022_10/On_Time_Marketing_Carrier_On_Time_Performance_(Beginning_January_2018)_2022_10.csv\n"
          ]
        },
        {
          "name": "stderr",
          "output_type": "stream",
          "text": [
            "/var/folders/br/znh1xf4j62j_9ntgx_cmf3gr0000gn/T/ipykernel_55464/1253025286.py:7: DtypeWarning: Columns (11,13,86,93) have mixed types. Specify dtype option on import or set low_memory=False.\n",
            "  df = pd.read_csv(f)\n"
          ]
        },
        {
          "ename": "",
          "evalue": "",
          "output_type": "error",
          "traceback": [
            "\u001b[1;31mThe Kernel crashed while executing code in the current cell or a previous cell. \n",
            "\u001b[1;31mPlease review the code in the cell(s) to identify a possible cause of the failure. \n",
            "\u001b[1;31mClick <a href='https://aka.ms/vscodeJupyterKernelCrash'>here</a> for more info. \n",
            "\u001b[1;31mView Jupyter <a href='command:jupyter.viewOutput'>log</a> for further details."
          ]
        }
      ],
      "source": [
        "base_path = \"506_data\"\n",
        "\n",
        "csv_files = glob.glob(os.path.join(base_path, \"**\", \"*.csv\"), recursive=True)\n",
        "df_list = []\n",
        "for f in csv_files:\n",
        "    print(f)\n",
        "    df = pd.read_csv(f)\n",
        "    df_list.append(df)\n",
        "merged_df = pd.concat(df_list, ignore_index=True)\n",
        "merged_df.to_csv(\"merged_flights.csv\", index=False)\n",
        "\n",
        "print(f\"Merged {len(csv_files)} CSVs into merged_flights.csv\")"
      ]
    },
    {
      "cell_type": "code",
      "execution_count": null,
      "metadata": {},
      "outputs": [],
      "source": []
    }
  ],
  "metadata": {
    "colab": {
      "private_outputs": true,
      "provenance": []
    },
    "kernelspec": {
      "display_name": "Python 3",
      "name": "python3"
    },
    "language_info": {
      "codemirror_mode": {
        "name": "ipython",
        "version": 3
      },
      "file_extension": ".py",
      "mimetype": "text/x-python",
      "name": "python",
      "nbconvert_exporter": "python",
      "pygments_lexer": "ipython3",
      "version": "3.9.6"
    }
  },
  "nbformat": 4,
  "nbformat_minor": 0
}
